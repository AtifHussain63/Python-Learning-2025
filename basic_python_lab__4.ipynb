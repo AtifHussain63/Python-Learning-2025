{
  "cells": [
    {
      "cell_type": "markdown",
      "metadata": {
        "id": "view-in-github",
        "colab_type": "text"
      },
      "source": [
        "<a href=\"https://colab.research.google.com/github/AtifHussain63/Python-Learning-2025/blob/main/basic_python_lab__4.ipynb\" target=\"_parent\"><img src=\"https://colab.research.google.com/assets/colab-badge.svg\" alt=\"Open In Colab\"/></a>"
      ]
    },
    {
      "cell_type": "markdown",
      "id": "11a33b01-9bdb-48ce-87bc-06cb8e6c1c73",
      "metadata": {
        "id": "11a33b01-9bdb-48ce-87bc-06cb8e6c1c73"
      },
      "source": [
        "# python tuples"
      ]
    },
    {
      "cell_type": "code",
      "execution_count": null,
      "id": "2c15bf8e-e460-41a3-ad4c-5990fc6c09d8",
      "metadata": {
        "id": "2c15bf8e-e460-41a3-ad4c-5990fc6c09d8",
        "outputId": "6d71827a-6ef9-411a-f6df-c0aaab324f24"
      },
      "outputs": [
        {
          "data": {
            "text/plain": [
              "list"
            ]
          },
          "execution_count": 13,
          "metadata": {},
          "output_type": "execute_result"
        }
      ],
      "source": [
        "# to check the data type\n",
        "mylist=[1,2,3,4]\n",
        "type(mylist)"
      ]
    },
    {
      "cell_type": "code",
      "execution_count": null,
      "id": "1bcc67a3-35a5-41ff-9718-e23221d17028",
      "metadata": {
        "id": "1bcc67a3-35a5-41ff-9718-e23221d17028",
        "outputId": "17a713c8-3dfa-41e8-c46a-09edab797adf"
      },
      "outputs": [
        {
          "data": {
            "text/plain": [
              "tuple"
            ]
          },
          "execution_count": 14,
          "metadata": {},
          "output_type": "execute_result"
        }
      ],
      "source": [
        "# create a tuple:\n",
        "# to check the data type\n",
        "mytuple1=(1,2,3,4)\n",
        "type(mytuple1)"
      ]
    },
    {
      "cell_type": "code",
      "execution_count": null,
      "id": "94ce1323-aadf-46fd-9aa5-1e24e0c35c7d",
      "metadata": {
        "id": "94ce1323-aadf-46fd-9aa5-1e24e0c35c7d",
        "outputId": "4cee6a98-2cf2-4f8b-a4f9-f84fdbbbc7fa"
      },
      "outputs": [
        {
          "data": {
            "text/plain": [
              "2"
            ]
          },
          "execution_count": 15,
          "metadata": {},
          "output_type": "execute_result"
        }
      ],
      "source": [
        "mylist[1]"
      ]
    },
    {
      "cell_type": "code",
      "execution_count": null,
      "id": "e478778c-3d00-41e8-9100-9fa29c03f8cc",
      "metadata": {
        "id": "e478778c-3d00-41e8-9100-9fa29c03f8cc",
        "outputId": "45938522-dd1c-4a75-c1ff-5b48678c3962"
      },
      "outputs": [
        {
          "data": {
            "text/plain": [
              "2"
            ]
          },
          "execution_count": 16,
          "metadata": {},
          "output_type": "execute_result"
        }
      ],
      "source": [
        "mytuple1[1]"
      ]
    },
    {
      "cell_type": "code",
      "execution_count": null,
      "id": "d1e36451-901a-4db8-a714-6aa584af2616",
      "metadata": {
        "id": "d1e36451-901a-4db8-a714-6aa584af2616",
        "outputId": "e3369d9f-86da-4005-dd67-5f5fff781e0d"
      },
      "outputs": [
        {
          "data": {
            "text/plain": [
              "('apple', 'banana', 'cheery')"
            ]
          },
          "execution_count": 17,
          "metadata": {},
          "output_type": "execute_result"
        }
      ],
      "source": [
        "# second tuples\n",
        "mytuple2=(\"apple\",\"banana\",\"cheery\")\n",
        "mytuple2"
      ]
    },
    {
      "cell_type": "code",
      "execution_count": null,
      "id": "1f2dea68-9f68-4876-8bed-9636b3e61001",
      "metadata": {
        "id": "1f2dea68-9f68-4876-8bed-9636b3e61001",
        "outputId": "119a942f-0f86-4dbd-cb9c-2ed34235b0fb"
      },
      "outputs": [
        {
          "ename": "TypeError",
          "evalue": "'tuple' object does not support item assignment",
          "output_type": "error",
          "traceback": [
            "\u001b[1;31m---------------------------------------------------------------------------\u001b[0m",
            "\u001b[1;31mTypeError\u001b[0m                                 Traceback (most recent call last)",
            "Cell \u001b[1;32mIn[19], line 2\u001b[0m\n\u001b[0;32m      1\u001b[0m \u001b[38;5;66;03m# tuples to unvchageable example\u001b[39;00m\n\u001b[1;32m----> 2\u001b[0m mytuple2[\u001b[38;5;241m1\u001b[39m]\u001b[38;5;241m=\u001b[39m \u001b[38;5;124m\"\u001b[39m\u001b[38;5;124morange\u001b[39m\u001b[38;5;124m\"\u001b[39m\n",
            "\u001b[1;31mTypeError\u001b[0m: 'tuple' object does not support item assignment"
          ]
        }
      ],
      "source": [
        "# tuples to unvchageable example\n",
        "mytuple2[1]= \"orange\""
      ]
    },
    {
      "cell_type": "code",
      "execution_count": null,
      "id": "3922de60-8b3e-4b62-a3ba-81e4c79a12fa",
      "metadata": {
        "id": "3922de60-8b3e-4b62-a3ba-81e4c79a12fa",
        "outputId": "535c9e66-5f63-4d4e-84b3-b2b418fb6c0f"
      },
      "outputs": [
        {
          "data": {
            "text/plain": [
              "[1, 'orange', 3, 4]"
            ]
          },
          "execution_count": 22,
          "metadata": {},
          "output_type": "execute_result"
        }
      ],
      "source": [
        "# list is changeable example\n",
        "mylist[1]= \"orange\"\n",
        "mylist"
      ]
    },
    {
      "cell_type": "code",
      "execution_count": null,
      "id": "252029f1-402b-4e75-b3ae-08d306e11ce0",
      "metadata": {
        "id": "252029f1-402b-4e75-b3ae-08d306e11ce0",
        "outputId": "c262f174-3b0b-4076-e78a-fa69ba6c0eac"
      },
      "outputs": [
        {
          "data": {
            "text/plain": [
              "('apple', 'banana', 'cheery', 1, 2, 3, 4)"
            ]
          },
          "execution_count": 25,
          "metadata": {},
          "output_type": "execute_result"
        }
      ],
      "source": [
        "# add cancatnation\n",
        "new_tuple=mytuple2+mytuple1\n",
        "new_tuple"
      ]
    },
    {
      "cell_type": "code",
      "execution_count": null,
      "id": "41a16412-8954-44ba-87f9-3fc42a8c82cc",
      "metadata": {
        "id": "41a16412-8954-44ba-87f9-3fc42a8c82cc",
        "outputId": "b2cb29f1-fc35-4da1-9362-974165180473"
      },
      "outputs": [
        {
          "data": {
            "text/plain": [
              "('banana', 'cheery')"
            ]
          },
          "execution_count": 26,
          "metadata": {},
          "output_type": "execute_result"
        }
      ],
      "source": [
        "# slicing\n",
        "new_tuple[1:3]"
      ]
    },
    {
      "cell_type": "code",
      "execution_count": null,
      "id": "4b83bbae-5953-4d6a-b030-7e745653aeac",
      "metadata": {
        "id": "4b83bbae-5953-4d6a-b030-7e745653aeac",
        "outputId": "0b6b695e-e426-4a6f-84ec-994a1c826f8f"
      },
      "outputs": [
        {
          "data": {
            "text/plain": [
              "('apple', 'banana', 'cheery', 1, 2)"
            ]
          },
          "execution_count": 27,
          "metadata": {},
          "output_type": "execute_result"
        }
      ],
      "source": [
        "new_tuple[:-2]"
      ]
    },
    {
      "cell_type": "code",
      "execution_count": null,
      "id": "7b3a5057-98d5-4400-a00a-70324e43fb39",
      "metadata": {
        "id": "7b3a5057-98d5-4400-a00a-70324e43fb39",
        "outputId": "5887a63e-73fe-4a97-c636-8e702e81d04f"
      },
      "outputs": [
        {
          "data": {
            "text/plain": [
              "str"
            ]
          },
          "execution_count": 33,
          "metadata": {},
          "output_type": "execute_result"
        }
      ],
      "source": [
        "type(new_tuple[1])"
      ]
    },
    {
      "cell_type": "code",
      "execution_count": null,
      "id": "1808cbd2-668b-4335-b120-810cbf1c3834",
      "metadata": {
        "id": "1808cbd2-668b-4335-b120-810cbf1c3834",
        "outputId": "54d06eb8-9e24-416a-96b3-1ea37ef25af6"
      },
      "outputs": [
        {
          "name": "stdout",
          "output_type": "stream",
          "text": [
            "('banana',)\n"
          ]
        },
        {
          "data": {
            "text/plain": [
              "tuple"
            ]
          },
          "execution_count": 36,
          "metadata": {},
          "output_type": "execute_result"
        }
      ],
      "source": [
        "new_tuple[1:2]\n",
        "print(new_tuple[1:2])\n",
        "type(new_tuple[1:2])"
      ]
    },
    {
      "cell_type": "code",
      "execution_count": null,
      "id": "daa3b6bf-c15c-48a6-a355-70809742ca2b",
      "metadata": {
        "id": "daa3b6bf-c15c-48a6-a355-70809742ca2b",
        "outputId": "b3782e0e-932f-4e18-acc5-10f41424d963"
      },
      "outputs": [
        {
          "data": {
            "text/plain": [
              "('apple', 'banana', 'cheery')"
            ]
          },
          "execution_count": 45,
          "metadata": {},
          "output_type": "execute_result"
        }
      ],
      "source": [
        "tuple_of_fruit=new_tuple[:3]# 3 is not include 3 is upper limit\n",
        "tuple_of_fruit"
      ]
    },
    {
      "cell_type": "code",
      "execution_count": null,
      "id": "89b683cb-ac67-4c6c-838b-08536d645b62",
      "metadata": {
        "id": "89b683cb-ac67-4c6c-838b-08536d645b62",
        "outputId": "e4a1a10b-a998-41a5-c920-27302309ed86"
      },
      "outputs": [
        {
          "data": {
            "text/plain": [
              "(1, 2, 3, 4)"
            ]
          },
          "execution_count": 46,
          "metadata": {},
          "output_type": "execute_result"
        }
      ],
      "source": [
        "tuple_of_number=new_tuple[3:]# 3 is include is lower limit\n",
        "tuple_of_number"
      ]
    },
    {
      "cell_type": "code",
      "execution_count": null,
      "id": "c65f8b00-ed03-4c3b-8a33-3a9e2058ef2e",
      "metadata": {
        "id": "c65f8b00-ed03-4c3b-8a33-3a9e2058ef2e"
      },
      "outputs": [],
      "source": [
        "tuple1=(\"apple\",\"banana\",\"cherry\")\n",
        "tuple2=(1,5,7,9,3)\n",
        "tuple3=(True,False,False)"
      ]
    },
    {
      "cell_type": "raw",
      "id": "589d014c-703e-4f64-9afc-ea5cf6dcecd2",
      "metadata": {
        "id": "589d014c-703e-4f64-9afc-ea5cf6dcecd2"
      },
      "source": [
        "print(type(tuple1))\n",
        "print(type(tuple2))\n",
        "print(type(tuple3))"
      ]
    },
    {
      "cell_type": "markdown",
      "id": "7e774759-978b-480e-a357-c714900f5efd",
      "metadata": {
        "id": "7e774759-978b-480e-a357-c714900f5efd"
      },
      "source": [
        "### Example\n",
        "A tuple with strings, integers and boolean values:"
      ]
    },
    {
      "cell_type": "code",
      "execution_count": null,
      "id": "1f60da81-60b4-4469-8ad7-34aac54c9c0b",
      "metadata": {
        "id": "1f60da81-60b4-4469-8ad7-34aac54c9c0b",
        "outputId": "022bebed-d521-44e8-afe7-8d03676b754a"
      },
      "outputs": [
        {
          "name": "stdout",
          "output_type": "stream",
          "text": [
            "<class 'tuple'>\n"
          ]
        }
      ],
      "source": [
        "tuple1 = (\"abc\", 34, True, 40, \"male\")\n",
        "#What is the data type of a tuple?\n",
        "print(type(tuple1))"
      ]
    },
    {
      "cell_type": "code",
      "execution_count": null,
      "id": "3d13afff-5687-4d3c-a610-682888504140",
      "metadata": {
        "id": "3d13afff-5687-4d3c-a610-682888504140"
      },
      "outputs": [],
      "source": []
    }
  ],
  "metadata": {
    "kernelspec": {
      "display_name": "Python 3 (ipykernel)",
      "language": "python",
      "name": "python3"
    },
    "language_info": {
      "codemirror_mode": {
        "name": "ipython",
        "version": 3
      },
      "file_extension": ".py",
      "mimetype": "text/x-python",
      "name": "python",
      "nbconvert_exporter": "python",
      "pygments_lexer": "ipython3",
      "version": "3.12.7"
    },
    "colab": {
      "provenance": [],
      "include_colab_link": true
    }
  },
  "nbformat": 4,
  "nbformat_minor": 5
}