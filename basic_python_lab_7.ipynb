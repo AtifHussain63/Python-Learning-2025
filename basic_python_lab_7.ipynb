{
  "cells": [
    {
      "cell_type": "markdown",
      "metadata": {
        "id": "view-in-github",
        "colab_type": "text"
      },
      "source": [
        "<a href=\"https://colab.research.google.com/github/AtifHussain63/Python-Learning-2025/blob/main/basic_python_lab_7.ipynb\" target=\"_parent\"><img src=\"https://colab.research.google.com/assets/colab-badge.svg\" alt=\"Open In Colab\"/></a>"
      ]
    },
    {
      "cell_type": "markdown",
      "id": "965b1c60-2b0b-4f69-b9c3-2cdeff215e87",
      "metadata": {
        "id": "965b1c60-2b0b-4f69-b9c3-2cdeff215e87"
      },
      "source": [
        "# Python - Add List Items"
      ]
    },
    {
      "cell_type": "markdown",
      "id": "81e71e6d-9085-4221-bb4c-5002dd99e19c",
      "metadata": {
        "id": "81e71e6d-9085-4221-bb4c-5002dd99e19c"
      },
      "source": [
        "# Append Items\n",
        "To add an item to the end of the list, use the append() method:"
      ]
    },
    {
      "cell_type": "markdown",
      "id": "f74e23a6-40e7-4c99-bb31-7f9d7ca774fc",
      "metadata": {
        "id": "f74e23a6-40e7-4c99-bb31-7f9d7ca774fc"
      },
      "source": [
        "## Example\n",
        "Using the append() method to append an item:"
      ]
    },
    {
      "cell_type": "code",
      "execution_count": null,
      "id": "8ab6abeb-52ab-4796-8ceb-b421e73155e0",
      "metadata": {
        "id": "8ab6abeb-52ab-4796-8ceb-b421e73155e0",
        "outputId": "9124674a-b454-4cb4-9b7c-2401c06fee5e"
      },
      "outputs": [
        {
          "name": "stdout",
          "output_type": "stream",
          "text": [
            "['apple', 'banana', 'cherry', 'orange']\n"
          ]
        }
      ],
      "source": [
        "thislist = [\"apple\", \"banana\", \"cherry\"]\n",
        "thislist.append(\"orange\")\n",
        "print(thislist)"
      ]
    },
    {
      "cell_type": "markdown",
      "id": "680a32a3-51da-4c3e-8683-e73390cdf9a7",
      "metadata": {
        "id": "680a32a3-51da-4c3e-8683-e73390cdf9a7"
      },
      "source": [
        "## Insert Items\n",
        "To insert a list item at a specified index, use the insert() method.\n",
        "\n",
        "The insert() method inserts an item at the specified index:\n",
        "\n",
        "## Example\n",
        "Insert an item as the second position:\n",
        "\n"
      ]
    },
    {
      "cell_type": "code",
      "execution_count": null,
      "id": "776bd3b5-ee44-48f5-9dc5-fcf8918bde79",
      "metadata": {
        "id": "776bd3b5-ee44-48f5-9dc5-fcf8918bde79",
        "outputId": "7bad1640-b726-41c2-fc6a-ed52d1406e8f"
      },
      "outputs": [
        {
          "name": "stdout",
          "output_type": "stream",
          "text": [
            "['apple', 'orange', 'banana', 'cherry']\n"
          ]
        }
      ],
      "source": [
        "thislist = [\"apple\", \"banana\", \"cherry\"]\n",
        "thislist.insert(1, \"orange\")# insert method\n",
        "print(thislist)"
      ]
    },
    {
      "cell_type": "markdown",
      "id": "f1f4bf2f-b218-4628-b9b7-e6047e828d6c",
      "metadata": {
        "id": "f1f4bf2f-b218-4628-b9b7-e6047e828d6c"
      },
      "source": [
        " # Extend List\n",
        "To append elements from another list to the current list, use the extend() method."
      ]
    },
    {
      "cell_type": "markdown",
      "id": "4142e007-98f2-4089-ac62-17605ff91d5f",
      "metadata": {
        "id": "4142e007-98f2-4089-ac62-17605ff91d5f"
      },
      "source": [
        "## Example\n",
        "Add the elements of tropical to thislist:\n"
      ]
    },
    {
      "cell_type": "code",
      "execution_count": null,
      "id": "9d2e2aa3-473b-470c-b341-410b83584c53",
      "metadata": {
        "id": "9d2e2aa3-473b-470c-b341-410b83584c53",
        "outputId": "e40b58d4-be40-4413-c725-146243f83c11"
      },
      "outputs": [
        {
          "name": "stdout",
          "output_type": "stream",
          "text": [
            "['apple', 'banana', 'cherry', 'mango', 'pineapple', 'papaya']\n"
          ]
        }
      ],
      "source": [
        "\n",
        "thislist = [\"apple\", \"banana\", \"cherry\"]\n",
        "tropical = [\"mango\", \"pineapple\", \"papaya\"]\n",
        "thislist.extend(tropical)\n",
        "print(thislist)"
      ]
    },
    {
      "cell_type": "code",
      "execution_count": null,
      "id": "23dd0685-9839-4b51-8d6c-128e21dafa5c",
      "metadata": {
        "id": "23dd0685-9839-4b51-8d6c-128e21dafa5c",
        "outputId": "dc6fc29b-7f53-4ec2-dad8-181901273d92"
      },
      "outputs": [
        {
          "name": "stdout",
          "output_type": "stream",
          "text": [
            "['mango', 'pineapple', 'papaya', 'apple', 'banana', 'cherry']\n"
          ]
        }
      ],
      "source": [
        "\n",
        "thislist = [\"apple\", \"banana\", \"cherry\"]\n",
        "tropical = [\"mango\", \"pineapple\", \"papaya\"]\n",
        "tropical.extend(thislist)\n",
        "print(tropical)"
      ]
    },
    {
      "cell_type": "markdown",
      "id": "5eebae72-4732-41cd-8ca0-17441707f251",
      "metadata": {
        "id": "5eebae72-4732-41cd-8ca0-17441707f251"
      },
      "source": [
        "## Add Any Iterable\n",
        "The extend() method does not have to append lists, you can add any iterable object (tuples, sets, dictionaries etc.).\n",
        "\n",
        "## Example\n",
        "Add elements of a tuple to a list:\n",
        "\n"
      ]
    },
    {
      "cell_type": "code",
      "execution_count": null,
      "id": "7e92c224-bdc3-429d-a192-e04df9cd4897",
      "metadata": {
        "id": "7e92c224-bdc3-429d-a192-e04df9cd4897",
        "outputId": "7eaf4874-215b-4727-fcc3-44cdabed3c1e"
      },
      "outputs": [
        {
          "name": "stdout",
          "output_type": "stream",
          "text": [
            "['apple', 'banana', 'cherry', 'kiwi', 'orange']\n"
          ]
        }
      ],
      "source": [
        "thislist = [\"apple\", \"banana\", \"cherry\"]\n",
        "thistuple = (\"kiwi\", \"orange\")\n",
        "thislist.extend(thistuple)\n",
        "print(thislist)"
      ]
    },
    {
      "cell_type": "markdown",
      "id": "48a1f733-cbff-42f5-b7c1-1f63e699d893",
      "metadata": {
        "id": "48a1f733-cbff-42f5-b7c1-1f63e699d893"
      },
      "source": [
        "# Python - Remove List Items\n"
      ]
    },
    {
      "cell_type": "markdown",
      "id": "a6091f93-ba1c-4a4d-9514-544f07dd20c9",
      "metadata": {
        "id": "a6091f93-ba1c-4a4d-9514-544f07dd20c9"
      },
      "source": [
        "# Remove Specified Item\n",
        "The remove() method removes the specified item.\n",
        "\n",
        "# Example\n",
        "Remove \"banana\":\n",
        "\n"
      ]
    },
    {
      "cell_type": "code",
      "execution_count": null,
      "id": "5dd0770c-f1a5-4de2-aa81-931674131fc6",
      "metadata": {
        "id": "5dd0770c-f1a5-4de2-aa81-931674131fc6",
        "outputId": "77775233-837f-4f34-99ea-fc1b62dc0bf6"
      },
      "outputs": [
        {
          "name": "stdout",
          "output_type": "stream",
          "text": [
            "['apple', 'cherry']\n"
          ]
        }
      ],
      "source": [
        "thislist = [\"apple\", \"banana\", \"cherry\"]\n",
        "thislist.remove(\"banana\")\n",
        "print(thislist)"
      ]
    },
    {
      "cell_type": "code",
      "execution_count": null,
      "id": "a5800429-5e3a-40df-8613-b21efed5ba54",
      "metadata": {
        "id": "a5800429-5e3a-40df-8613-b21efed5ba54",
        "outputId": "a2896bf9-f951-41a4-9ff7-97745d1346f8"
      },
      "outputs": [
        {
          "name": "stdout",
          "output_type": "stream",
          "text": [
            "[1, 3, 4, 5, 6, 7, 8, 9, 10]\n"
          ]
        }
      ],
      "source": [
        "mylist=[1,2,3,4,5,6,7,8,9,10]\n",
        "mylist.remove(2)\n",
        "print(mylist)"
      ]
    },
    {
      "cell_type": "markdown",
      "id": "91d2c7db-08b3-48c5-bdbe-be3c6163b92d",
      "metadata": {
        "id": "91d2c7db-08b3-48c5-bdbe-be3c6163b92d"
      },
      "source": [
        "If there are more than one item with the specified value, the remove() method removes the first occurrence:\n",
        "\n",
        "## Example\n",
        "Remove the first occurrence of \"banana\":\n",
        "\n"
      ]
    },
    {
      "cell_type": "code",
      "execution_count": null,
      "id": "b1f28aa1-b06a-43db-b65e-701b9d27e6c5",
      "metadata": {
        "id": "b1f28aa1-b06a-43db-b65e-701b9d27e6c5",
        "outputId": "abe3186a-b71a-403c-8fc1-b94d90301626"
      },
      "outputs": [
        {
          "name": "stdout",
          "output_type": "stream",
          "text": [
            "['apple', 'cherry', 'banana', 'kiwi']\n"
          ]
        }
      ],
      "source": [
        "thislist = [\"apple\", \"banana\", \"cherry\", \"banana\", \"kiwi\"]\n",
        "thislist.remove(\"banana\")\n",
        "print(thislist)"
      ]
    },
    {
      "cell_type": "markdown",
      "id": "c65a53dc-98af-4aba-b046-4e37d5a81246",
      "metadata": {
        "id": "c65a53dc-98af-4aba-b046-4e37d5a81246"
      },
      "source": [
        "## Remove Specified Index\n",
        "The pop() method removes the specified index.\n",
        "\n",
        "## Example\n",
        "Remove the second item:\n",
        "\n"
      ]
    },
    {
      "cell_type": "code",
      "execution_count": null,
      "id": "630a1d04-530d-4148-a636-1464d69f9766",
      "metadata": {
        "id": "630a1d04-530d-4148-a636-1464d69f9766",
        "outputId": "e29678f9-e055-4e57-f3f9-448e6ec15abb"
      },
      "outputs": [
        {
          "name": "stdout",
          "output_type": "stream",
          "text": [
            "['apple', 'cherry']\n"
          ]
        }
      ],
      "source": [
        "thislist = [\"apple\", \"banana\", \"cherry\"]\n",
        "thislist.pop(1)\n",
        "print(thislist)"
      ]
    },
    {
      "cell_type": "markdown",
      "id": "3a3d15b3-b629-49ad-aee8-26a32649ef47",
      "metadata": {
        "id": "3a3d15b3-b629-49ad-aee8-26a32649ef47"
      },
      "source": [
        "If you do not specify the index, the pop() method removes the last item.\n",
        "\n",
        "## Example\n",
        "Remove the last item:\n",
        "\n"
      ]
    },
    {
      "cell_type": "code",
      "execution_count": null,
      "id": "fe8213af-208d-43c9-aea0-985bd018a405",
      "metadata": {
        "id": "fe8213af-208d-43c9-aea0-985bd018a405",
        "outputId": "8d74a056-7404-46d0-e1bb-d373dff14834"
      },
      "outputs": [
        {
          "name": "stdout",
          "output_type": "stream",
          "text": [
            "['apple', 'banana']\n"
          ]
        }
      ],
      "source": [
        "thislist = [\"apple\", \"banana\", \"cherry\"]\n",
        "thislist.pop()\n",
        "print(thislist)"
      ]
    },
    {
      "cell_type": "markdown",
      "id": "46795115-f8b4-4c19-9aed-3c6759c90f24",
      "metadata": {
        "id": "46795115-f8b4-4c19-9aed-3c6759c90f24"
      },
      "source": [
        "The del keyword also removes the specified index:\n",
        "\n",
        "## Example\n",
        "Remove the first item:\n"
      ]
    },
    {
      "cell_type": "code",
      "execution_count": null,
      "id": "26c97326-3099-4f7e-8de4-53c7abeb19f8",
      "metadata": {
        "id": "26c97326-3099-4f7e-8de4-53c7abeb19f8",
        "outputId": "0e919ec6-b347-418e-a6b4-675296ddaf5c"
      },
      "outputs": [
        {
          "name": "stdout",
          "output_type": "stream",
          "text": [
            "['apple', 'cherry']\n"
          ]
        }
      ],
      "source": [
        "\n",
        "thislist = [\"apple\", \"banana\", \"cherry\"]\n",
        "del thislist[1]\n",
        "print(thislist)"
      ]
    },
    {
      "cell_type": "markdown",
      "id": "acfb4bbc-ef3c-4bf1-ae88-c2052f411767",
      "metadata": {
        "id": "acfb4bbc-ef3c-4bf1-ae88-c2052f411767"
      },
      "source": [
        "The del keyword can also delete the list completely.\n",
        "\n",
        "## Example\n",
        "Delete the entire list:\n",
        "\n"
      ]
    },
    {
      "cell_type": "code",
      "execution_count": null,
      "id": "602e0b8d-ff18-4032-ab6a-2418eae102e2",
      "metadata": {
        "id": "602e0b8d-ff18-4032-ab6a-2418eae102e2"
      },
      "outputs": [],
      "source": [
        "thislist = [\"apple\", \"banana\", \"cherry\"]\n",
        "del thislist"
      ]
    },
    {
      "cell_type": "markdown",
      "id": "d97ab2f5-4735-4ff0-aa9e-a4b4e22e74e9",
      "metadata": {
        "id": "d97ab2f5-4735-4ff0-aa9e-a4b4e22e74e9"
      },
      "source": [
        "## Clear the List\n",
        "The clear() method empties the list.\n",
        "\n",
        "The list still remains, but it has no content.\n",
        "\n",
        "## Example\n",
        "Clear the list content:\n",
        "\n"
      ]
    },
    {
      "cell_type": "code",
      "execution_count": null,
      "id": "f8981d26-fb7d-4cd3-b65d-f7a052baff01",
      "metadata": {
        "id": "f8981d26-fb7d-4cd3-b65d-f7a052baff01",
        "outputId": "d1e310e4-5554-4cdd-dafb-9ed312733dc3"
      },
      "outputs": [
        {
          "name": "stdout",
          "output_type": "stream",
          "text": [
            "[]\n"
          ]
        }
      ],
      "source": [
        "thislist = [\"apple\", \"banana\", \"cherry\"]\n",
        "thislist.clear()\n",
        "print(thislist)"
      ]
    },
    {
      "cell_type": "code",
      "execution_count": null,
      "id": "0e686cde-c00b-4082-bf97-2f2e3d143fc4",
      "metadata": {
        "id": "0e686cde-c00b-4082-bf97-2f2e3d143fc4"
      },
      "outputs": [],
      "source": []
    }
  ],
  "metadata": {
    "kernelspec": {
      "display_name": "Python 3 (ipykernel)",
      "language": "python",
      "name": "python3"
    },
    "language_info": {
      "codemirror_mode": {
        "name": "ipython",
        "version": 3
      },
      "file_extension": ".py",
      "mimetype": "text/x-python",
      "name": "python",
      "nbconvert_exporter": "python",
      "pygments_lexer": "ipython3",
      "version": "3.12.7"
    },
    "colab": {
      "provenance": [],
      "include_colab_link": true
    }
  },
  "nbformat": 4,
  "nbformat_minor": 5
}