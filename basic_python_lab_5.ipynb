{
  "cells": [
    {
      "cell_type": "markdown",
      "metadata": {
        "id": "view-in-github",
        "colab_type": "text"
      },
      "source": [
        "<a href=\"https://colab.research.google.com/github/AtifHussain63/Python-Learning-2025/blob/main/basic_python_lab_5.ipynb\" target=\"_parent\"><img src=\"https://colab.research.google.com/assets/colab-badge.svg\" alt=\"Open In Colab\"/></a>"
      ]
    },
    {
      "cell_type": "markdown",
      "id": "e1bbc753-d13b-4f7b-b42c-4f8eed68b7f9",
      "metadata": {
        "id": "e1bbc753-d13b-4f7b-b42c-4f8eed68b7f9"
      },
      "source": [
        "# python sets"
      ]
    },
    {
      "cell_type": "code",
      "execution_count": null,
      "id": "98a583f2-6fd5-481d-8a0f-1ad936356e13",
      "metadata": {
        "id": "98a583f2-6fd5-481d-8a0f-1ad936356e13",
        "outputId": "5aa0e507-5262-4994-b339-bcf508929154"
      },
      "outputs": [
        {
          "name": "stdout",
          "output_type": "stream",
          "text": [
            "<class 'set'>\n"
          ]
        }
      ],
      "source": [
        "# make a sets in python\n",
        "name_of_set={\"apple\",\"orange\",\"cheery\"}\n",
        "print(type(name))"
      ]
    },
    {
      "cell_type": "code",
      "execution_count": null,
      "id": "9a4a24fb-aa85-4068-bd67-caa88d165676",
      "metadata": {
        "id": "9a4a24fb-aa85-4068-bd67-caa88d165676"
      },
      "outputs": [],
      "source": [
        "# not allow repration\n",
        "name_of_set={\"apple\",\"orange\",\"cheery\",\"apple\"}"
      ]
    },
    {
      "cell_type": "code",
      "execution_count": null,
      "id": "b3456c36-31f4-4e02-bf48-59c9a33878e9",
      "metadata": {
        "id": "b3456c36-31f4-4e02-bf48-59c9a33878e9",
        "outputId": "2fb09e7c-4154-4c18-c71a-41c01a0637fe"
      },
      "outputs": [
        {
          "data": {
            "text/plain": [
              "{'apple', 'cheery', 'orange'}"
            ]
          },
          "execution_count": 9,
          "metadata": {},
          "output_type": "execute_result"
        }
      ],
      "source": [
        "name_of_set"
      ]
    },
    {
      "cell_type": "code",
      "execution_count": null,
      "id": "b6fe5a77-02f5-4ba3-a50e-47a3c60976b9",
      "metadata": {
        "id": "b6fe5a77-02f5-4ba3-a50e-47a3c60976b9"
      },
      "outputs": [],
      "source": [
        "#Note: The values True and 1 are considered the same value in sets, and are treated as duplicates:\n",
        "name_of_set={2,True,'apple','orange','cheery',1}"
      ]
    },
    {
      "cell_type": "markdown",
      "id": "40c202c5-e2d8-4a9d-8ada-54efd865e2a0",
      "metadata": {
        "id": "40c202c5-e2d8-4a9d-8ada-54efd865e2a0"
      },
      "source": [
        "#### Note:\n",
        "The values False and 0 are considered the same value in sets, and are treated as duplicates:"
      ]
    },
    {
      "cell_type": "code",
      "execution_count": null,
      "id": "33ab7b00-a0e4-476d-b1d8-4e71bc6ad974",
      "metadata": {
        "id": "33ab7b00-a0e4-476d-b1d8-4e71bc6ad974"
      },
      "outputs": [],
      "source": [
        "name_of_set={2,False,'apple','orange','cheery',0}"
      ]
    },
    {
      "cell_type": "code",
      "execution_count": null,
      "id": "11d241d5-57b2-41af-bf65-dacd925f3f45",
      "metadata": {
        "id": "11d241d5-57b2-41af-bf65-dacd925f3f45",
        "outputId": "01c63b19-b6bb-4a75-ef10-c061b9b25bd2"
      },
      "outputs": [
        {
          "data": {
            "text/plain": [
              "{2, False, 'apple', 'cheery', 'orange'}"
            ]
          },
          "execution_count": 18,
          "metadata": {},
          "output_type": "execute_result"
        }
      ],
      "source": [
        "name_of_set"
      ]
    },
    {
      "cell_type": "markdown",
      "id": "b74248e4-5875-49ad-987e-c6bd33a28d22",
      "metadata": {
        "id": "b74248e4-5875-49ad-987e-c6bd33a28d22"
      },
      "source": [
        "### python dictionary"
      ]
    },
    {
      "cell_type": "code",
      "execution_count": null,
      "id": "ac1d0cff-bd5b-4181-b31d-ef808d1a590a",
      "metadata": {
        "id": "ac1d0cff-bd5b-4181-b31d-ef808d1a590a",
        "outputId": "b0bb92f4-6cf3-4bcc-c298-f130830e434c"
      },
      "outputs": [
        {
          "name": "stdout",
          "output_type": "stream",
          "text": [
            "{'brand': 'Ford', 'model': 'Mustang', 'year': 1964}\n"
          ]
        }
      ],
      "source": [
        "thisdict = {\n",
        "  \"brand\": \"Ford\",\n",
        "  \"model\": \"Mustang\",\n",
        "  \"year\": 1964\n",
        "}\n",
        "print(thisdict)"
      ]
    },
    {
      "cell_type": "markdown",
      "id": "60251838-bfde-429f-b97c-9436d3527e18",
      "metadata": {
        "id": "60251838-bfde-429f-b97c-9436d3527e18"
      },
      "source": [
        "## Duplicates Not Allowed"
      ]
    },
    {
      "cell_type": "code",
      "execution_count": null,
      "id": "d979a5ee-1910-4625-bed8-d14c3c9c8fc2",
      "metadata": {
        "id": "d979a5ee-1910-4625-bed8-d14c3c9c8fc2",
        "outputId": "b0fdd756-7a0c-4483-be92-c61cb105c885"
      },
      "outputs": [
        {
          "name": "stdout",
          "output_type": "stream",
          "text": [
            "{'brand': 'Ford', 'model': 'Mustang', 'year': 2020}\n"
          ]
        }
      ],
      "source": [
        "thisdict = {\n",
        "  \"brand\": \"Ford\",\n",
        "  \"model\": \"Mustang\",\n",
        "  \"year\": 1964,\n",
        "    \"year\": 2020\n",
        "}\n",
        "print(thisdict)"
      ]
    },
    {
      "cell_type": "markdown",
      "id": "fe07d6e3-37e5-4aed-a38f-3d347f341d64",
      "metadata": {
        "id": "fe07d6e3-37e5-4aed-a38f-3d347f341d64"
      },
      "source": [
        "## Dictionary Length\n",
        "To determine how many items a dictionary has, use the len() function:"
      ]
    },
    {
      "cell_type": "code",
      "execution_count": null,
      "id": "cb0bee3e-e0a0-4528-8a81-f27bf230a65e",
      "metadata": {
        "id": "cb0bee3e-e0a0-4528-8a81-f27bf230a65e",
        "outputId": "fe89b8a7-7a82-4fda-85ff-eec07a71d908"
      },
      "outputs": [
        {
          "data": {
            "text/plain": [
              "3"
            ]
          },
          "execution_count": 23,
          "metadata": {},
          "output_type": "execute_result"
        }
      ],
      "source": [
        "len(thisdict)"
      ]
    },
    {
      "cell_type": "markdown",
      "id": "3691abbb-5ecf-430e-9e2d-0a223d69b1de",
      "metadata": {
        "id": "3691abbb-5ecf-430e-9e2d-0a223d69b1de"
      },
      "source": [
        "## type()\n",
        "From Python's perspective, dictionaries are defined as objects with the data type 'dict':"
      ]
    },
    {
      "cell_type": "code",
      "execution_count": null,
      "id": "a91cf483-bd28-480f-bbb3-c8308b2b628d",
      "metadata": {
        "id": "a91cf483-bd28-480f-bbb3-c8308b2b628d",
        "outputId": "cd9062a4-1f2f-4506-c342-d5f0d161c095"
      },
      "outputs": [
        {
          "name": "stdout",
          "output_type": "stream",
          "text": [
            "<class 'dict'>\n"
          ]
        }
      ],
      "source": [
        "print(type(thisdict))"
      ]
    },
    {
      "cell_type": "code",
      "execution_count": null,
      "id": "beca1fd1-e229-4fea-b467-61c2b5d2c25d",
      "metadata": {
        "id": "beca1fd1-e229-4fea-b467-61c2b5d2c25d",
        "outputId": "80394ed0-9777-4e6e-8ddd-00c0b5d1a800"
      },
      "outputs": [
        {
          "data": {
            "text/plain": [
              "dict_keys(['brand', 'model', 'year'])"
            ]
          },
          "execution_count": 29,
          "metadata": {},
          "output_type": "execute_result"
        }
      ],
      "source": [
        "# Find the keys name\n",
        "thisdict.keys()"
      ]
    },
    {
      "cell_type": "code",
      "execution_count": null,
      "id": "b645a00d-10d0-4e75-8947-646ed7b29ba0",
      "metadata": {
        "id": "b645a00d-10d0-4e75-8947-646ed7b29ba0",
        "outputId": "67cf7b6d-f6e4-43e6-c7f6-59caa749d8a5"
      },
      "outputs": [
        {
          "data": {
            "text/plain": [
              "dict_values(['Ford', 'Mustang', 2020])"
            ]
          },
          "execution_count": 32,
          "metadata": {},
          "output_type": "execute_result"
        }
      ],
      "source": [
        "thisdict.values()"
      ]
    },
    {
      "cell_type": "code",
      "execution_count": null,
      "id": "16c2de6a-3acb-43c7-aab7-a3ae6bb5cb0d",
      "metadata": {
        "id": "16c2de6a-3acb-43c7-aab7-a3ae6bb5cb0d",
        "outputId": "66aa0675-24a9-4291-f914-aa0e0eaadc48"
      },
      "outputs": [
        {
          "data": {
            "text/plain": [
              "dict_items([('brand', 'Ford'), ('model', 'Mustang'), ('year', 2020)])"
            ]
          },
          "execution_count": 34,
          "metadata": {},
          "output_type": "execute_result"
        }
      ],
      "source": [
        "thisdict.items()"
      ]
    },
    {
      "cell_type": "code",
      "execution_count": null,
      "id": "d60f223c-cff6-4a60-88c2-bce30699ad25",
      "metadata": {
        "id": "d60f223c-cff6-4a60-88c2-bce30699ad25",
        "outputId": "c56144c0-96dd-461e-e47c-cc49c2faac91"
      },
      "outputs": [
        {
          "data": {
            "text/plain": [
              "'Ford'"
            ]
          },
          "execution_count": 35,
          "metadata": {},
          "output_type": "execute_result"
        }
      ],
      "source": [
        "thisdict. get('brand')"
      ]
    },
    {
      "cell_type": "code",
      "execution_count": null,
      "id": "6fa9b1c8-61fb-402d-a2b4-ed1e479f72b8",
      "metadata": {
        "id": "6fa9b1c8-61fb-402d-a2b4-ed1e479f72b8",
        "outputId": "2fa306dc-3624-4bb6-d499-228d2a44611b"
      },
      "outputs": [
        {
          "data": {
            "text/plain": [
              "2020"
            ]
          },
          "execution_count": 36,
          "metadata": {},
          "output_type": "execute_result"
        }
      ],
      "source": [
        "thisdict.get('year')"
      ]
    },
    {
      "cell_type": "code",
      "execution_count": null,
      "id": "ac6f2cf5-99b2-484a-8278-c756fc1c83b9",
      "metadata": {
        "id": "ac6f2cf5-99b2-484a-8278-c756fc1c83b9",
        "outputId": "97229e7f-3cb4-4419-f02c-00f5dbef8ed0"
      },
      "outputs": [
        {
          "data": {
            "text/plain": [
              "'Mustang'"
            ]
          },
          "execution_count": 39,
          "metadata": {},
          "output_type": "execute_result"
        }
      ],
      "source": [
        "thisdict.get('model')"
      ]
    },
    {
      "cell_type": "code",
      "execution_count": null,
      "id": "be44fec2-cc17-45e1-b8fe-f0e4bc49959a",
      "metadata": {
        "id": "be44fec2-cc17-45e1-b8fe-f0e4bc49959a",
        "outputId": "0ab88db3-de72-4959-bae1-2240de6f73ff"
      },
      "outputs": [
        {
          "name": "stdout",
          "output_type": "stream",
          "text": [
            "{'name': 'John', 'age': 36, 'country': 'Norway'}\n"
          ]
        }
      ],
      "source": [
        "thisdict = dict(name = \"John\", age = 36, country = \"Norway\")\n",
        "print(thisdict)"
      ]
    },
    {
      "cell_type": "code",
      "execution_count": null,
      "id": "a4c095ab-488b-4742-af33-2a513951c05f",
      "metadata": {
        "id": "a4c095ab-488b-4742-af33-2a513951c05f",
        "outputId": "54d78bd3-602f-4a4d-a16c-c7c177ef3f10"
      },
      "outputs": [
        {
          "data": {
            "text/plain": [
              "dict_keys(['name', 'age', 'country'])"
            ]
          },
          "execution_count": 41,
          "metadata": {},
          "output_type": "execute_result"
        }
      ],
      "source": [
        "thisdict.keys()"
      ]
    },
    {
      "cell_type": "code",
      "execution_count": null,
      "id": "307b3012-5108-4bb0-a88f-f257bc1fc5ab",
      "metadata": {
        "id": "307b3012-5108-4bb0-a88f-f257bc1fc5ab"
      },
      "outputs": [],
      "source": []
    }
  ],
  "metadata": {
    "kernelspec": {
      "display_name": "Python 3 (ipykernel)",
      "language": "python",
      "name": "python3"
    },
    "language_info": {
      "codemirror_mode": {
        "name": "ipython",
        "version": 3
      },
      "file_extension": ".py",
      "mimetype": "text/x-python",
      "name": "python",
      "nbconvert_exporter": "python",
      "pygments_lexer": "ipython3",
      "version": "3.12.7"
    },
    "colab": {
      "provenance": [],
      "include_colab_link": true
    }
  },
  "nbformat": 4,
  "nbformat_minor": 5
}