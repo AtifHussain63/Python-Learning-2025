{
  "cells": [
    {
      "cell_type": "markdown",
      "metadata": {
        "id": "view-in-github",
        "colab_type": "text"
      },
      "source": [
        "<a href=\"https://colab.research.google.com/github/AtifHussain63/Python-Learning-2025/blob/main/basic_python_lab_6.ipynb\" target=\"_parent\"><img src=\"https://colab.research.google.com/assets/colab-badge.svg\" alt=\"Open In Colab\"/></a>"
      ]
    },
    {
      "cell_type": "markdown",
      "id": "4609caf5-5c2d-44bd-b4c7-e8252c3b1f0d",
      "metadata": {
        "id": "4609caf5-5c2d-44bd-b4c7-e8252c3b1f0d"
      },
      "source": [
        "# Python list\n",
        "## access list\n",
        "List items are indexed and you can access them by referring to the index number:"
      ]
    },
    {
      "cell_type": "markdown",
      "id": "ac837b37-3277-4a77-b36e-b9f3fcde770b",
      "metadata": {
        "id": "ac837b37-3277-4a77-b36e-b9f3fcde770b"
      },
      "source": [
        "## Example\n",
        "Print the second item of the list:"
      ]
    },
    {
      "cell_type": "code",
      "execution_count": null,
      "id": "35487208-4df2-4f13-8271-e0b1e5ef3265",
      "metadata": {
        "id": "35487208-4df2-4f13-8271-e0b1e5ef3265",
        "outputId": "51ddc87b-c698-446c-8425-f86f8c4d0c00"
      },
      "outputs": [
        {
          "name": "stdout",
          "output_type": "stream",
          "text": [
            "cherry\n"
          ]
        }
      ],
      "source": [
        "thislist = [\"apple\", \"banana\", \"cherry\"]\n",
        "print(thislist[2])"
      ]
    },
    {
      "cell_type": "markdown",
      "id": "a7ec6317-9a9f-4657-a5ba-e079dd9f9c04",
      "metadata": {
        "id": "a7ec6317-9a9f-4657-a5ba-e079dd9f9c04"
      },
      "source": [
        "Note: The first item has index 0."
      ]
    },
    {
      "cell_type": "markdown",
      "id": "f89bcde2-bf17-4e89-87a9-69e0e82b193d",
      "metadata": {
        "id": "f89bcde2-bf17-4e89-87a9-69e0e82b193d"
      },
      "source": [
        "# Negative Indexing"
      ]
    },
    {
      "cell_type": "markdown",
      "id": "673d3564-ba33-4b8e-823e-70857583e601",
      "metadata": {
        "id": "673d3564-ba33-4b8e-823e-70857583e601"
      },
      "source": [
        "Negative indexing means start from the end\n",
        "\n",
        "-1 refers to the last item, -2 refers to the second last item etc."
      ]
    },
    {
      "cell_type": "markdown",
      "id": "9449d2cb-5791-4f26-930a-8bc5731a835d",
      "metadata": {
        "id": "9449d2cb-5791-4f26-930a-8bc5731a835d"
      },
      "source": [
        "## Example\n",
        "Print the last item of the list:"
      ]
    },
    {
      "cell_type": "code",
      "execution_count": null,
      "id": "9f129f22-c41a-467d-a559-282ab75b0db5",
      "metadata": {
        "id": "9f129f22-c41a-467d-a559-282ab75b0db5",
        "outputId": "d394b42b-f35e-4947-e65a-8c8d85a19187"
      },
      "outputs": [
        {
          "name": "stdout",
          "output_type": "stream",
          "text": [
            "cherry\n"
          ]
        }
      ],
      "source": [
        "thislist = [\"apple\", \"banana\", \"cherry\"]\n",
        "print(thislist[-1])"
      ]
    },
    {
      "cell_type": "markdown",
      "id": "faf324ad-e2d6-48b1-8e32-037286dce1f8",
      "metadata": {
        "id": "faf324ad-e2d6-48b1-8e32-037286dce1f8"
      },
      "source": [
        "## Range of Indexes"
      ]
    },
    {
      "cell_type": "markdown",
      "id": "0dbf6fe3-0913-4ebd-b6f7-f48b88877c74",
      "metadata": {
        "id": "0dbf6fe3-0913-4ebd-b6f7-f48b88877c74"
      },
      "source": [
        "You can specify a range of indexes by specifying where to start and where to end the range.\n",
        "\n",
        "When specifying a range, the return value will be a new list with the specified items."
      ]
    },
    {
      "cell_type": "markdown",
      "id": "c0d9a36a-a9d1-4cdc-9584-86c6375bdfd2",
      "metadata": {
        "id": "c0d9a36a-a9d1-4cdc-9584-86c6375bdfd2"
      },
      "source": [
        "## Example\n",
        "Return the third, fourth, and fifth item:"
      ]
    },
    {
      "cell_type": "code",
      "execution_count": null,
      "id": "e7f29dbd-6389-4f0d-9b6f-d16391d7661f",
      "metadata": {
        "id": "e7f29dbd-6389-4f0d-9b6f-d16391d7661f",
        "outputId": "44d95496-2d4e-4d66-8650-600b50e96bda"
      },
      "outputs": [
        {
          "name": "stdout",
          "output_type": "stream",
          "text": [
            "['cherry', 'orange', 'kiwi']\n"
          ]
        }
      ],
      "source": [
        "thislist = [\"apple\", \"banana\", \"cherry\", \"orange\", \"kiwi\", \"melon\", \"mango\"]\n",
        "print(thislist[2:5])\n"
      ]
    },
    {
      "cell_type": "markdown",
      "id": "92f1eed0-1b3f-4f5d-a6d8-6deb9c38fece",
      "metadata": {
        "id": "92f1eed0-1b3f-4f5d-a6d8-6deb9c38fece"
      },
      "source": [
        "Note: The search will start at index 2 (included) and end at index 5 (not included).\n",
        "Remember that the first item has index 0.\n",
        "\n",
        "By leaving out the start value, the range will start at the first item:"
      ]
    },
    {
      "cell_type": "markdown",
      "id": "ae17f677-3bb6-4093-91e9-ace548f1f999",
      "metadata": {
        "id": "ae17f677-3bb6-4093-91e9-ace548f1f999"
      },
      "source": [
        "# Example\n",
        "This example returns the items from the beginning to, but NOT including, \"kiwi\":"
      ]
    },
    {
      "cell_type": "code",
      "execution_count": null,
      "id": "90d32517-8fde-4289-9069-04d85813e6bd",
      "metadata": {
        "id": "90d32517-8fde-4289-9069-04d85813e6bd",
        "outputId": "c53c6ca9-eaaa-4d7b-e0a1-b44ed406edd6"
      },
      "outputs": [
        {
          "name": "stdout",
          "output_type": "stream",
          "text": [
            "['apple', 'banana', 'cherry', 'orange']\n"
          ]
        }
      ],
      "source": [
        "# 4th index is not including where kiwi\n",
        "thislist = [\"apple\", \"banana\", \"cherry\", \"orange\", \"kiwi\", \"melon\", \"mango\"]\n",
        "print(thislist[:4])"
      ]
    },
    {
      "cell_type": "markdown",
      "id": "2858d636-4aa0-4f78-87fe-1b4dd880ab60",
      "metadata": {
        "id": "2858d636-4aa0-4f78-87fe-1b4dd880ab60"
      },
      "source": [
        "# Range of Negative Indexes\n",
        "Specify negative indexes if you want to start the search from the end of the list:"
      ]
    },
    {
      "cell_type": "markdown",
      "id": "09cfdd8e-7c6d-4c02-88f1-c9ebc354ccdc",
      "metadata": {
        "id": "09cfdd8e-7c6d-4c02-88f1-c9ebc354ccdc"
      },
      "source": [
        "# Example\n",
        "This example returns the items from \"orange\" (-4) to, but NOT including \"mango\" (-1):"
      ]
    },
    {
      "cell_type": "code",
      "execution_count": null,
      "id": "9a2eac91-e4e2-42b6-9ea5-7dd0c912e4bd",
      "metadata": {
        "id": "9a2eac91-e4e2-42b6-9ea5-7dd0c912e4bd",
        "outputId": "b4a263a5-b106-423f-82dd-2136075bab9d"
      },
      "outputs": [
        {
          "name": "stdout",
          "output_type": "stream",
          "text": [
            "['cherry', 'orange', 'kiwi', 'melon']\n"
          ]
        }
      ],
      "source": [
        "thislist = [\"apple\", \"banana\", \"cherry\", \"orange\", \"kiwi\", \"melon\", \"mango\"]\n",
        "print(thislist[-5:-1])"
      ]
    },
    {
      "cell_type": "markdown",
      "id": "d6c4ad63-aa12-485d-a852-477bffd0f62d",
      "metadata": {
        "id": "d6c4ad63-aa12-485d-a852-477bffd0f62d"
      },
      "source": [
        "# Check if Item Exists\n",
        "To determine if a specified item is present in a list use the in keyword:"
      ]
    },
    {
      "cell_type": "markdown",
      "id": "0c86c758-2a80-4cc0-a05e-15ff3aa8822c",
      "metadata": {
        "id": "0c86c758-2a80-4cc0-a05e-15ff3aa8822c"
      },
      "source": [
        "# Example\n",
        "Check if \"apple\" is present in the list:"
      ]
    },
    {
      "cell_type": "code",
      "execution_count": null,
      "id": "565e841d-afbb-4062-86cc-133c956c133f",
      "metadata": {
        "id": "565e841d-afbb-4062-86cc-133c956c133f",
        "outputId": "027122f6-9234-4eb9-b82e-f34869d3bc1c"
      },
      "outputs": [
        {
          "name": "stdout",
          "output_type": "stream",
          "text": [
            "Yes, 'cheery' is  the fruits list\n"
          ]
        }
      ],
      "source": [
        "thislist = [\"apple\", \"banana\", \"cherry\"]\n",
        "if \"apple\" in thislist:\n",
        "  print(\"Yes, 'cheery' is  the fruits list\")\n",
        "else:\n",
        "    print(\"no cheery is fruit list\")"
      ]
    },
    {
      "cell_type": "code",
      "execution_count": null,
      "id": "c5dc42ee-9f36-4c96-b986-8ae5ef8e66aa",
      "metadata": {
        "id": "c5dc42ee-9f36-4c96-b986-8ae5ef8e66aa",
        "outputId": "c812e9b9-8b76-471a-a56b-62d92d76df67"
      },
      "outputs": [
        {
          "name": "stdout",
          "output_type": "stream",
          "text": [
            "yes 6 is present in my list\n"
          ]
        }
      ],
      "source": [
        "# test\n",
        "mylist=[1,2,3,4,5,6,7,8,9,10]\n",
        "if 6 in mylist:\n",
        "    print(\"yes 6 is present in my list\")\n",
        "else:\n",
        "    print(\"their is 6 not present in list\")"
      ]
    },
    {
      "cell_type": "markdown",
      "id": "3f8af73d-2ba2-4318-a858-a4becd5cb34c",
      "metadata": {
        "id": "3f8af73d-2ba2-4318-a858-a4becd5cb34c"
      },
      "source": [
        "# Python - Change List Items\n"
      ]
    },
    {
      "cell_type": "markdown",
      "id": "103f79b9-1752-4ed9-9a2f-7e3bd339aab5",
      "metadata": {
        "id": "103f79b9-1752-4ed9-9a2f-7e3bd339aab5"
      },
      "source": [
        "# Change Item Value\n",
        "To change the value of a specific item, refer to the index number:"
      ]
    },
    {
      "cell_type": "markdown",
      "id": "2594cd76-7b75-4875-a340-535414426542",
      "metadata": {
        "id": "2594cd76-7b75-4875-a340-535414426542"
      },
      "source": [
        "# Example\n",
        "Change the second item:"
      ]
    },
    {
      "cell_type": "code",
      "execution_count": null,
      "id": "69683f4e-0a56-48fa-a540-98674dacf317",
      "metadata": {
        "id": "69683f4e-0a56-48fa-a540-98674dacf317",
        "outputId": "8f58c458-59e1-4ee4-d1b8-52de339a0a3d"
      },
      "outputs": [
        {
          "name": "stdout",
          "output_type": "stream",
          "text": [
            "['apple', 'mango', 'cherry']\n"
          ]
        }
      ],
      "source": [
        "thislist = [\"apple\", \"banana\", \"cherry\"]\n",
        "thislist[1] = \"mango\"\n",
        "print(thislist)"
      ]
    },
    {
      "cell_type": "code",
      "execution_count": null,
      "id": "0964d130-d06f-49c7-8541-4ed8abd752cc",
      "metadata": {
        "id": "0964d130-d06f-49c7-8541-4ed8abd752cc"
      },
      "outputs": [],
      "source": [
        "# change the third item\n",
        "thislist[2]= \"mango\""
      ]
    },
    {
      "cell_type": "code",
      "execution_count": null,
      "id": "da63679a-050d-4d46-9293-9dc38a26b65d",
      "metadata": {
        "id": "da63679a-050d-4d46-9293-9dc38a26b65d",
        "outputId": "5d4b5ebf-005c-4d3b-9beb-151a55ef258a"
      },
      "outputs": [
        {
          "name": "stdout",
          "output_type": "stream",
          "text": [
            "['apple', 'mango', 'mango']\n"
          ]
        }
      ],
      "source": [
        "print(thislist)"
      ]
    },
    {
      "cell_type": "markdown",
      "id": "198ea668-e79b-4197-915a-cb1e52bdb8fd",
      "metadata": {
        "id": "198ea668-e79b-4197-915a-cb1e52bdb8fd"
      },
      "source": [
        "# Change a Range of Item Values\n",
        "To change the value of items within a specific range, define a list with the new values, and refer to the range of index numbers where you want to insert the new values:"
      ]
    },
    {
      "cell_type": "markdown",
      "id": "452fe9e5-f345-4bc1-bf00-c01bd3932848",
      "metadata": {
        "id": "452fe9e5-f345-4bc1-bf00-c01bd3932848"
      },
      "source": [
        "# Example\n",
        "Change the values \"banana\" and \"cherry\" with the values \"blackcurrant\" and \"watermelon\":"
      ]
    },
    {
      "cell_type": "code",
      "execution_count": null,
      "id": "6ad77139-01f9-4bbe-a61a-6465bbac9f54",
      "metadata": {
        "id": "6ad77139-01f9-4bbe-a61a-6465bbac9f54",
        "outputId": "421af518-7f9f-4bd5-a531-3eb6816e889c"
      },
      "outputs": [
        {
          "name": "stdout",
          "output_type": "stream",
          "text": [
            "['apple', 'blackcurrant', 'watermelon', 'orange', 'kiwi', 'mango']\n"
          ]
        }
      ],
      "source": [
        "thislist = [\"apple\", \"banana\", \"cherry\", \"orange\", \"kiwi\", \"mango\"]\n",
        "thislist[1:3] = [\"blackcurrant\", \"watermelon\"]\n",
        "print(thislist)\n"
      ]
    },
    {
      "cell_type": "markdown",
      "id": "9418d27d-3666-4c0a-b662-1fb64ea78145",
      "metadata": {
        "id": "9418d27d-3666-4c0a-b662-1fb64ea78145"
      },
      "source": [
        "# Example\n",
        "Change the second value by replacing it with two new values:"
      ]
    },
    {
      "cell_type": "code",
      "execution_count": null,
      "id": "b2cda086-daa1-4df6-8588-41ac175db320",
      "metadata": {
        "id": "b2cda086-daa1-4df6-8588-41ac175db320",
        "outputId": "3e92cd22-6f1b-487e-e124-85bbb1b59ace"
      },
      "outputs": [
        {
          "name": "stdout",
          "output_type": "stream",
          "text": [
            "['apple', 'blackcurrant', 'watermelon', 'cherry']\n"
          ]
        }
      ],
      "source": [
        "thislist = [\"apple\", \"banana\", \"cherry\"]\n",
        "thislist[1:2] = [\"blackcurrant\", \"watermelon\"]\n",
        "print(thislist)"
      ]
    },
    {
      "cell_type": "markdown",
      "id": "0bddb1b5-73fd-4f53-99da-647f1cf828c3",
      "metadata": {
        "id": "0bddb1b5-73fd-4f53-99da-647f1cf828c3"
      },
      "source": [
        " Note: The length of the list will change when the number of items inserted does not match the number of items replaced."
      ]
    },
    {
      "cell_type": "markdown",
      "id": "dbaa5792-c5a4-49f9-87ab-3dd9e6b56df4",
      "metadata": {
        "id": "dbaa5792-c5a4-49f9-87ab-3dd9e6b56df4"
      },
      "source": [
        "# Example\n",
        "Change the second and third value by replacing it with one value:"
      ]
    },
    {
      "cell_type": "code",
      "execution_count": null,
      "id": "f4c2144f-0780-4e05-86ba-eb2a8828ec1b",
      "metadata": {
        "id": "f4c2144f-0780-4e05-86ba-eb2a8828ec1b",
        "outputId": "5ea7af6c-0986-4ab6-d704-d1cef193bee3"
      },
      "outputs": [
        {
          "name": "stdout",
          "output_type": "stream",
          "text": [
            "['apple', 'watermelon']\n"
          ]
        }
      ],
      "source": [
        "thislist = [\"apple\", \"banana\", \"cherry\"]\n",
        "thislist[1:3] = [\"watermelon\"]\n",
        "print(thislist)"
      ]
    },
    {
      "cell_type": "markdown",
      "id": "5ac16064-dfba-474c-ba8c-201ce3e3bf18",
      "metadata": {
        "id": "5ac16064-dfba-474c-ba8c-201ce3e3bf18"
      },
      "source": [
        "# Insert Items\n",
        "To insert a new list item, without replacing any of the existing values, we can use the insert() method.\n",
        "\n",
        "The insert() method inserts an item at the specified index:"
      ]
    },
    {
      "cell_type": "markdown",
      "id": "7139cfb3-5c40-4d7e-8956-616cf4c8f246",
      "metadata": {
        "id": "7139cfb3-5c40-4d7e-8956-616cf4c8f246"
      },
      "source": [
        "# Example\n",
        "Insert \"watermelon\" as the third item:"
      ]
    },
    {
      "cell_type": "code",
      "execution_count": null,
      "id": "3fe1e0bc-db9b-4fa8-9539-3856bfd730a7",
      "metadata": {
        "id": "3fe1e0bc-db9b-4fa8-9539-3856bfd730a7",
        "outputId": "43c64216-e23c-4147-ab4f-a9b10572ca30"
      },
      "outputs": [
        {
          "name": "stdout",
          "output_type": "stream",
          "text": [
            "['apple', 'banana', 'watermelon', 'cherry']\n"
          ]
        }
      ],
      "source": [
        "thislist = [\"apple\", \"banana\", \"cherry\"]\n",
        "thislist.insert(2, \"watermelon\")\n",
        "print(thislist)"
      ]
    },
    {
      "cell_type": "code",
      "execution_count": null,
      "id": "70b59e96-6a74-4921-9600-034d2e84c605",
      "metadata": {
        "id": "70b59e96-6a74-4921-9600-034d2e84c605"
      },
      "outputs": [],
      "source": []
    }
  ],
  "metadata": {
    "kernelspec": {
      "display_name": "Python 3 (ipykernel)",
      "language": "python",
      "name": "python3"
    },
    "language_info": {
      "codemirror_mode": {
        "name": "ipython",
        "version": 3
      },
      "file_extension": ".py",
      "mimetype": "text/x-python",
      "name": "python",
      "nbconvert_exporter": "python",
      "pygments_lexer": "ipython3",
      "version": "3.12.7"
    },
    "colab": {
      "provenance": [],
      "include_colab_link": true
    }
  },
  "nbformat": 4,
  "nbformat_minor": 5
}