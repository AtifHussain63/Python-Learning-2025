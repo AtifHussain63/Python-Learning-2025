{
 "cells": [
  {
   "cell_type": "markdown",
   "id": "c5284ab3-09e0-4347-ba3c-7466b5e35707",
   "metadata": {},
   "source": [
    "# list in python"
   ]
  },
  {
   "cell_type": "code",
   "execution_count": 1,
   "id": "feebd315-9a52-406b-9f01-7cd5b41d67c6",
   "metadata": {},
   "outputs": [],
   "source": [
    "mylist=[1,2,3,4,5,6]"
   ]
  },
  {
   "cell_type": "code",
   "execution_count": 4,
   "id": "1996253a-c5c6-4d33-a91d-7e1dbe903b91",
   "metadata": {},
   "outputs": [
    {
     "data": {
      "text/plain": [
       "list"
      ]
     },
     "execution_count": 4,
     "metadata": {},
     "output_type": "execute_result"
    }
   ],
   "source": [
    "type(mylist)"
   ]
  },
  {
   "cell_type": "code",
   "execution_count": 15,
   "id": "0cdb6baa-f9f7-4a49-9d47-c9f288004008",
   "metadata": {},
   "outputs": [],
   "source": [
    "thislist=[\"apple\",\"banana\",\"orange\",\"peach\"]"
   ]
  },
  {
   "cell_type": "code",
   "execution_count": 20,
   "id": "58c54c05-7b9c-49e6-913e-23ed77846c4c",
   "metadata": {},
   "outputs": [
    {
     "data": {
      "text/plain": [
       "'peach'"
      ]
     },
     "execution_count": 20,
     "metadata": {},
     "output_type": "execute_result"
    }
   ],
   "source": [
    "# indexing return the item\n",
    "thislist[-1]"
   ]
  },
  {
   "cell_type": "code",
   "execution_count": 25,
   "id": "cef96f3a-1418-4652-b316-cfbcbb1ff26a",
   "metadata": {},
   "outputs": [
    {
     "data": {
      "text/plain": [
       "[1, 2, 3]"
      ]
     },
     "execution_count": 25,
     "metadata": {},
     "output_type": "execute_result"
    }
   ],
   "source": [
    "# slicing returns a new list\n",
    "mylist[:3]"
   ]
  },
  {
   "cell_type": "code",
   "execution_count": 26,
   "id": "781c94de-38be-4fde-be35-71cfab17a15a",
   "metadata": {},
   "outputs": [],
   "source": [
    "# list also support operations like concatenation:"
   ]
  },
  {
   "cell_type": "code",
   "execution_count": 27,
   "id": "32847838-5212-4311-b4bf-d0b65fbb57de",
   "metadata": {},
   "outputs": [
    {
     "name": "stdout",
     "output_type": "stream",
     "text": [
      "[1, 2, 3, 4, 5, 6, 'apple', 'banana', 'orange', 'peach']\n"
     ]
    }
   ],
   "source": [
    "newlist=mylist+thislist\n",
    "print(newlist)"
   ]
  },
  {
   "cell_type": "code",
   "execution_count": 29,
   "id": "a09b735f-df56-4e64-ab9b-acc2f0d61f2c",
   "metadata": {},
   "outputs": [
    {
     "name": "stdout",
     "output_type": "stream",
     "text": [
      "[1, 2, 3, 4, 5, 6]\n"
     ]
    }
   ],
   "source": [
    "numberlist=newlist[:6]\n",
    "print(numberlist)"
   ]
  },
  {
   "cell_type": "code",
   "execution_count": 30,
   "id": "02cdae30-4a62-4c5d-be5b-ffc2606632e3",
   "metadata": {},
   "outputs": [
    {
     "name": "stdout",
     "output_type": "stream",
     "text": [
      "['apple', 'banana', 'orange', 'peach']\n"
     ]
    }
   ],
   "source": [
    "fruitlist=newlist[6:]\n",
    "print(fruitlist)"
   ]
  },
  {
   "cell_type": "code",
   "execution_count": 31,
   "id": "f7e536aa-834d-4b69-8eff-88a3b177edad",
   "metadata": {},
   "outputs": [
    {
     "name": "stdout",
     "output_type": "stream",
     "text": [
      "[1, 2, 3, 4, 5, 6, 7, 8, 9, 10]\n"
     ]
    }
   ],
   "source": [
    "new_numberlist=numberlist+[7,8,9,10]\n",
    "print(new_numberlist)"
   ]
  },
  {
   "cell_type": "code",
   "execution_count": 36,
   "id": "a4e54b00-2925-462d-b71b-df499feda25e",
   "metadata": {},
   "outputs": [
    {
     "data": {
      "text/plain": [
       "10"
      ]
     },
     "execution_count": 36,
     "metadata": {},
     "output_type": "execute_result"
    }
   ],
   "source": [
    "#length\n",
    "len(new_numberlist)"
   ]
  },
  {
   "cell_type": "code",
   "execution_count": 44,
   "id": "410873d6-193d-4664-a342-3f9c41dd3d9d",
   "metadata": {},
   "outputs": [],
   "source": [
    "# something's wrong here\n",
    "cube=[1,8,27,65,125] # 65 is wrong values"
   ]
  },
  {
   "cell_type": "code",
   "execution_count": 38,
   "id": "57403d42-b9a5-45a6-bfb4-1e1d3c7a66b2",
   "metadata": {},
   "outputs": [
    {
     "data": {
      "text/plain": [
       "64"
      ]
     },
     "execution_count": 38,
     "metadata": {},
     "output_type": "execute_result"
    }
   ],
   "source": [
    "4**3"
   ]
  },
  {
   "cell_type": "code",
   "execution_count": 46,
   "id": "6fb3d3fe-3f10-458d-92d4-f24c9ee5aba1",
   "metadata": {},
   "outputs": [
    {
     "name": "stdout",
     "output_type": "stream",
     "text": [
      "64\n"
     ]
    }
   ],
   "source": [
    "cube[3]=64 #replace wrong value\n",
    "print(cube[3])"
   ]
  },
  {
   "cell_type": "code",
   "execution_count": 47,
   "id": "91d32994-dd02-4ef5-aa34-82025a5a2a23",
   "metadata": {},
   "outputs": [
    {
     "name": "stdout",
     "output_type": "stream",
     "text": [
      "[1, 8, 27, 64, 125]\n"
     ]
    }
   ],
   "source": [
    "print(cube)"
   ]
  },
  {
   "cell_type": "code",
   "execution_count": 49,
   "id": "ebfd983b-f12c-4b6a-9825-aa12a2465953",
   "metadata": {},
   "outputs": [],
   "source": [
    "cube.append(216)"
   ]
  },
  {
   "cell_type": "code",
   "execution_count": 50,
   "id": "c76eac4c-e3f0-47d8-a083-0361840aa7db",
   "metadata": {},
   "outputs": [
    {
     "data": {
      "text/plain": [
       "[1, 8, 27, 64, 125, 216]"
      ]
     },
     "execution_count": 50,
     "metadata": {},
     "output_type": "execute_result"
    }
   ],
   "source": [
    "cube"
   ]
  },
  {
   "cell_type": "code",
   "execution_count": 51,
   "id": "7d5ef1ac-69dc-41a4-9cce-333f2889ae4f",
   "metadata": {},
   "outputs": [],
   "source": [
    "cube.append(7**3)"
   ]
  },
  {
   "cell_type": "code",
   "execution_count": 52,
   "id": "5c873d9f-2cc0-4c47-a981-765cfecaf0a7",
   "metadata": {},
   "outputs": [
    {
     "name": "stdout",
     "output_type": "stream",
     "text": [
      "[1, 8, 27, 64, 125, 216, 343]\n"
     ]
    }
   ],
   "source": [
    "print(cube)"
   ]
  },
  {
   "cell_type": "code",
   "execution_count": 54,
   "id": "127ded73-b800-4632-80d8-00295106d3f2",
   "metadata": {},
   "outputs": [],
   "source": [
    "cube.append(8**3)"
   ]
  },
  {
   "cell_type": "code",
   "execution_count": 55,
   "id": "d5d80be7-e5a0-4d45-80fd-cefea3a7e413",
   "metadata": {},
   "outputs": [],
   "source": [
    "cube.append(9**3)"
   ]
  },
  {
   "cell_type": "code",
   "execution_count": 56,
   "id": "68f0e926-e757-45dd-b434-ea3e5aeae686",
   "metadata": {},
   "outputs": [],
   "source": [
    "cube.append(10**3)"
   ]
  },
  {
   "cell_type": "code",
   "execution_count": 57,
   "id": "48e219f6-db8d-429f-93e8-3ca08a1d5192",
   "metadata": {},
   "outputs": [
    {
     "name": "stdout",
     "output_type": "stream",
     "text": [
      "[1, 8, 27, 64, 125, 216, 343, 512, 729, 1000]\n"
     ]
    }
   ],
   "source": [
    "print(cube)"
   ]
  },
  {
   "cell_type": "code",
   "execution_count": 58,
   "id": "80495b0a-88e8-4bef-ad71-afef9d20dced",
   "metadata": {},
   "outputs": [],
   "source": [
    "cube.append(\"this are the cube number\")"
   ]
  },
  {
   "cell_type": "code",
   "execution_count": 61,
   "id": "3c4ca031-f063-4dff-bdd3-d0eb372e9a8a",
   "metadata": {},
   "outputs": [
    {
     "name": "stdout",
     "output_type": "stream",
     "text": [
      "[1, 8, 27, 64, 125, 216, 343, 512, 729, 1000, 'this are the cube number']\n"
     ]
    }
   ],
   "source": [
    "print(cube)\n"
   ]
  },
  {
   "cell_type": "code",
   "execution_count": 62,
   "id": "d1e5f13b-64da-49a0-ab7c-8826355595a9",
   "metadata": {},
   "outputs": [],
   "source": [
    "letters=['a','b','c','d','e','f','g']"
   ]
  },
  {
   "cell_type": "code",
   "execution_count": 63,
   "id": "cc3d511c-81c8-4615-a78a-46b63c330065",
   "metadata": {},
   "outputs": [],
   "source": [
    "letters[2:5]=['C','D','E']"
   ]
  },
  {
   "cell_type": "code",
   "execution_count": 65,
   "id": "5bd6d097-d227-418d-9404-c359c93e4d76",
   "metadata": {},
   "outputs": [
    {
     "name": "stdout",
     "output_type": "stream",
     "text": [
      "['a', 'b', 'C', 'D', 'E', 'f', 'g']\n"
     ]
    }
   ],
   "source": [
    "print(letters)"
   ]
  },
  {
   "cell_type": "code",
   "execution_count": 68,
   "id": "dc540e42-8c34-441e-9295-9ed4851944cc",
   "metadata": {},
   "outputs": [],
   "source": [
    "letters[2:5] = []"
   ]
  },
  {
   "cell_type": "code",
   "execution_count": 69,
   "id": "b0c60a95-f7a0-43a5-9077-e7e1b76d849b",
   "metadata": {},
   "outputs": [
    {
     "data": {
      "text/plain": [
       "['a', 'b', 'f', 'g']"
      ]
     },
     "execution_count": 69,
     "metadata": {},
     "output_type": "execute_result"
    }
   ],
   "source": [
    "letters"
   ]
  },
  {
   "cell_type": "code",
   "execution_count": 70,
   "id": "f45c8e47-adb2-42e9-b316-d29aa1fee1e8",
   "metadata": {},
   "outputs": [
    {
     "data": {
      "text/plain": [
       "4"
      ]
     },
     "execution_count": 70,
     "metadata": {},
     "output_type": "execute_result"
    }
   ],
   "source": [
    "len(letters)"
   ]
  },
  {
   "cell_type": "code",
   "execution_count": null,
   "id": "76fe421f-2339-4769-ae57-938fbfc54f93",
   "metadata": {},
   "outputs": [],
   "source": []
  }
 ],
 "metadata": {
  "kernelspec": {
   "display_name": "Python 3 (ipykernel)",
   "language": "python",
   "name": "python3"
  },
  "language_info": {
   "codemirror_mode": {
    "name": "ipython",
    "version": 3
   },
   "file_extension": ".py",
   "mimetype": "text/x-python",
   "name": "python",
   "nbconvert_exporter": "python",
   "pygments_lexer": "ipython3",
   "version": "3.12.7"
  }
 },
 "nbformat": 4,
 "nbformat_minor": 5
}
