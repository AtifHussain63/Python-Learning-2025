{
  "cells": [
    {
      "cell_type": "markdown",
      "metadata": {
        "id": "view-in-github",
        "colab_type": "text"
      },
      "source": [
        "<a href=\"https://colab.research.google.com/github/AtifHussain63/Python-Learning-2025/blob/main/basic_python_lab_8.ipynb\" target=\"_parent\"><img src=\"https://colab.research.google.com/assets/colab-badge.svg\" alt=\"Open In Colab\"/></a>"
      ]
    },
    {
      "cell_type": "markdown",
      "id": "de11a205-5b9c-4e38-b9e8-74d06d32d02b",
      "metadata": {
        "id": "de11a205-5b9c-4e38-b9e8-74d06d32d02b"
      },
      "source": [
        "## Python - Loop Lists\n"
      ]
    },
    {
      "cell_type": "markdown",
      "id": "de8b356f-3bea-4b97-8413-7f5f84f30c17",
      "metadata": {
        "id": "de8b356f-3bea-4b97-8413-7f5f84f30c17"
      },
      "source": [
        "## Loop Through a List\n",
        "You can loop through the list items by using a for loop:\n",
        "\n",
        "## Example"
      ]
    },
    {
      "cell_type": "markdown",
      "id": "fd95e4d5-dc42-4da2-8a34-62ce3bc964f8",
      "metadata": {
        "id": "fd95e4d5-dc42-4da2-8a34-62ce3bc964f8"
      },
      "source": [
        "Print all items in the list, one by one:"
      ]
    },
    {
      "cell_type": "code",
      "execution_count": null,
      "id": "fb1a093f-d7e7-4800-8049-cd4dd2d05a62",
      "metadata": {
        "id": "fb1a093f-d7e7-4800-8049-cd4dd2d05a62",
        "outputId": "5ca905f4-126b-4bfc-afef-391b5acc8b21"
      },
      "outputs": [
        {
          "name": "stdout",
          "output_type": "stream",
          "text": [
            "apple\n",
            "banana\n",
            "cherry\n"
          ]
        }
      ],
      "source": [
        "thislist = [\"apple\", \"banana\", \"cherry\"]\n",
        "for x in thislist:\n",
        "  print(x)"
      ]
    },
    {
      "cell_type": "markdown",
      "id": "159cf90f-764b-441f-a872-1b04a52ff19a",
      "metadata": {
        "id": "159cf90f-764b-441f-a872-1b04a52ff19a"
      },
      "source": [
        "# Loop Through the Index Numbers\n",
        "You can also loop through the list items by referring to their index number.\n",
        "\n",
        "Use the range() and len() functions to create a suitable iterable.\n",
        "\n",
        "## Example\n",
        "Print all items by referring to their index number:\n"
      ]
    },
    {
      "cell_type": "code",
      "execution_count": null,
      "id": "7f90b1f8-ff1a-4ab9-93d8-c4a9caf63f57",
      "metadata": {
        "id": "7f90b1f8-ff1a-4ab9-93d8-c4a9caf63f57",
        "outputId": "05e7d4cb-b209-41a9-ed24-15b2833b0203"
      },
      "outputs": [
        {
          "name": "stdout",
          "output_type": "stream",
          "text": [
            "apple\n",
            "banana\n",
            "cherry\n"
          ]
        }
      ],
      "source": [
        "thislist = [\"apple\", \"banana\", \"cherry\"]\n",
        "for y in range(len(thislist)):\n",
        "  print(thislist[y])"
      ]
    },
    {
      "cell_type": "code",
      "execution_count": null,
      "id": "931317be-ca3f-4f08-8752-e45c9277e955",
      "metadata": {
        "id": "931317be-ca3f-4f08-8752-e45c9277e955",
        "outputId": "61904179-6b1b-4b59-f307-8170eaef8355"
      },
      "outputs": [
        {
          "name": "stdout",
          "output_type": "stream",
          "text": [
            "islamabad\n",
            "karachi\n",
            "lahore\n",
            "pandi\n"
          ]
        }
      ],
      "source": [
        "mylist=[\"islamabad\",\"karachi\",\"lahore\",\"pandi\"]\n",
        "for c in range(len(mylist)):\n",
        "    print(mylist[c])\n"
      ]
    },
    {
      "cell_type": "code",
      "execution_count": null,
      "id": "c6599483-1693-4313-91a8-4f5785c1d2fa",
      "metadata": {
        "id": "c6599483-1693-4313-91a8-4f5785c1d2fa",
        "outputId": "8603127a-121b-416d-e3d7-b9756eb81cd9"
      },
      "outputs": [
        {
          "name": "stdout",
          "output_type": "stream",
          "text": [
            "islamabad\n",
            "karachi\n",
            "lahore\n",
            "pandi\n"
          ]
        }
      ],
      "source": [
        "for i in mylist:\n",
        "    print(i)"
      ]
    },
    {
      "cell_type": "markdown",
      "id": "21552e7f-37c0-4917-a8fa-48e5c46966a5",
      "metadata": {
        "id": "21552e7f-37c0-4917-a8fa-48e5c46966a5"
      },
      "source": [
        "# Using a While Loop\n",
        "You can loop through the list items by using a while loop.\n",
        "\n",
        "Use the len() function to determine the length of the list, then start at 0 and loop your way through the list items by referring to their indexes.\n",
        "\n",
        "Remember to increase the index by 1 after each iteration.\n",
        "\n",
        "## Example\n",
        "Print all items, using a while loop to go through all the index numbers\n",
        "\n"
      ]
    },
    {
      "cell_type": "code",
      "execution_count": null,
      "id": "15519c01-b9cd-4d29-b923-71325b364498",
      "metadata": {
        "id": "15519c01-b9cd-4d29-b923-71325b364498",
        "outputId": "0c035619-2781-4a3d-aec9-1481a8e3b97f"
      },
      "outputs": [
        {
          "name": "stdout",
          "output_type": "stream",
          "text": [
            "apple\n",
            "banana\n",
            "cherry\n"
          ]
        }
      ],
      "source": [
        "thislist = [\"apple\", \"banana\", \"cherry\"]\n",
        "i = 0\n",
        "while i < len(thislist):\n",
        "  print(thislist[i])\n",
        "  i = i + 1"
      ]
    },
    {
      "cell_type": "code",
      "execution_count": null,
      "id": "61ffebf7-fd7f-445d-8f79-41f97c2482e0",
      "metadata": {
        "id": "61ffebf7-fd7f-445d-8f79-41f97c2482e0",
        "outputId": "e7f63116-fc6a-4e6a-a183-662165ee93a8"
      },
      "outputs": [
        {
          "name": "stdout",
          "output_type": "stream",
          "text": [
            "1\n",
            "2\n",
            "3\n",
            "4\n",
            "5\n",
            "6\n",
            "7\n",
            "8\n",
            "9\n",
            "10\n"
          ]
        }
      ],
      "source": [
        "numlist=[1,2,3,4,5,6,7,8,9,10]\n",
        "a = 0\n",
        "while a < len(numlist):\n",
        "    print(numlist[a])\n",
        "    a = a + 1"
      ]
    },
    {
      "cell_type": "code",
      "execution_count": null,
      "id": "c1699495-1150-412c-961f-70ce58730eff",
      "metadata": {
        "id": "c1699495-1150-412c-961f-70ce58730eff",
        "outputId": "7b1e74b2-3c7c-4f2e-907f-6c1fb81d8fb1"
      },
      "outputs": [
        {
          "name": "stdout",
          "output_type": "stream",
          "text": [
            "ali\n",
            "farhan\n",
            "saim\n",
            "abbas\n"
          ]
        }
      ],
      "source": [
        "mylist=[\"ali\",\"farhan\",\"saim\",\"abbas\"]\n",
        "a= 0\n",
        "while a < len(mylist):\n",
        "    print(mylist[a])\n",
        "    a = a + 1\n",
        ""
      ]
    },
    {
      "cell_type": "markdown",
      "id": "29ef77eb-18ae-4cf9-b592-37a3139cfff1",
      "metadata": {
        "id": "29ef77eb-18ae-4cf9-b592-37a3139cfff1"
      },
      "source": [
        "# Python - Loop Tuples"
      ]
    },
    {
      "cell_type": "markdown",
      "id": "27a6defe-fe74-4670-b282-330f37b51b8f",
      "metadata": {
        "id": "27a6defe-fe74-4670-b282-330f37b51b8f"
      },
      "source": [
        "## Loop Through a Tuple\n",
        "You can loop through the tuple items by using a for loop."
      ]
    },
    {
      "cell_type": "markdown",
      "id": "7b0bf0f1-f100-410b-9ee5-7d85a78f8b70",
      "metadata": {
        "id": "7b0bf0f1-f100-410b-9ee5-7d85a78f8b70"
      },
      "source": [
        "## Example\n",
        "Iterate through the items and print the values:\n",
        "\n"
      ]
    },
    {
      "cell_type": "code",
      "execution_count": null,
      "id": "272d7e53-4a6c-4b65-8f21-c7cb199c083b",
      "metadata": {
        "id": "272d7e53-4a6c-4b65-8f21-c7cb199c083b",
        "outputId": "1c060296-2924-4c7d-8b3e-0bc7b08e77d2"
      },
      "outputs": [
        {
          "name": "stdout",
          "output_type": "stream",
          "text": [
            "apple\n",
            "banana\n",
            "cherry\n"
          ]
        }
      ],
      "source": [
        "thistuple = (\"apple\", \"banana\", \"cherry\")\n",
        "for x in thistuple:\n",
        "  print(x)"
      ]
    },
    {
      "cell_type": "markdown",
      "id": "7b8d2ec0-7c41-4513-bc71-dcb664fd2b88",
      "metadata": {
        "id": "7b8d2ec0-7c41-4513-bc71-dcb664fd2b88"
      },
      "source": [
        "# Loop Through the Index Numbers\n",
        "You can also loop through the tuple items by referring to their index number.\n",
        "\n",
        "Use the range() and len() functions to create a suitable iterable.\n",
        "\n",
        "## Example\n",
        "Print all items by referring to their index number:\n",
        "\n"
      ]
    },
    {
      "cell_type": "code",
      "execution_count": null,
      "id": "b66830f6-58d2-4a59-95b9-6e3413b8ef57",
      "metadata": {
        "id": "b66830f6-58d2-4a59-95b9-6e3413b8ef57",
        "outputId": "86e1f9d4-fcc4-44f0-f0bd-e28b27fe96b6"
      },
      "outputs": [
        {
          "name": "stdout",
          "output_type": "stream",
          "text": [
            "apple\n",
            "banana\n",
            "cherry\n"
          ]
        }
      ],
      "source": [
        "thistuple = (\"apple\", \"banana\", \"cherry\")\n",
        "for i in range(len(thistuple)):\n",
        "  print(thistuple[i])"
      ]
    },
    {
      "cell_type": "markdown",
      "id": "46cd41ec-80e5-44b2-8b56-aa6b241b1012",
      "metadata": {
        "id": "46cd41ec-80e5-44b2-8b56-aa6b241b1012"
      },
      "source": [
        "# Using a While Loop\n",
        "You can loop through the tuple items by using a while loop.\n",
        "\n",
        "Use the len() function to determine the length of the tuple, then start at 0 and loop your way through the tuple items by referring to their indexes.\n",
        "\n",
        "Remember to increase the index by 1 after each iteration.\n",
        "\n",
        "## Example\n",
        "Print all items, using a while loop to go through all the index numbers:\n",
        "\n"
      ]
    },
    {
      "cell_type": "code",
      "execution_count": null,
      "id": "21799f96-a92d-4894-bf7d-8a8bdd49d41e",
      "metadata": {
        "id": "21799f96-a92d-4894-bf7d-8a8bdd49d41e",
        "outputId": "c3eaf501-5960-45bc-b8b7-68c613daa537"
      },
      "outputs": [
        {
          "name": "stdout",
          "output_type": "stream",
          "text": [
            "apple\n",
            "banana\n",
            "cherry\n"
          ]
        }
      ],
      "source": [
        "thistuple = (\"apple\", \"banana\", \"cherry\")\n",
        "i = 0\n",
        "while i < len(thistuple):\n",
        "  print(thistuple[i])\n",
        "  i = i + 1"
      ]
    },
    {
      "cell_type": "code",
      "execution_count": null,
      "id": "0b0fd2ab-7171-4194-9668-0b402dd03aac",
      "metadata": {
        "id": "0b0fd2ab-7171-4194-9668-0b402dd03aac"
      },
      "outputs": [],
      "source": []
    }
  ],
  "metadata": {
    "kernelspec": {
      "display_name": "Python 3 (ipykernel)",
      "language": "python",
      "name": "python3"
    },
    "language_info": {
      "codemirror_mode": {
        "name": "ipython",
        "version": 3
      },
      "file_extension": ".py",
      "mimetype": "text/x-python",
      "name": "python",
      "nbconvert_exporter": "python",
      "pygments_lexer": "ipython3",
      "version": "3.12.7"
    },
    "colab": {
      "provenance": [],
      "include_colab_link": true
    }
  },
  "nbformat": 4,
  "nbformat_minor": 5
}