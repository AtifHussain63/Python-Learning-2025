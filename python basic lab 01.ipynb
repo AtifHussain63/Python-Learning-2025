{
 "cells": [
  {
   "cell_type": "markdown",
   "id": "71fa386e-19c0-4acd-a2fe-e421d22af3f7",
   "metadata": {},
   "source": [
    "# Number"
   ]
  },
  {
   "cell_type": "markdown",
   "id": "a0f2dbff-6b6b-4616-a366-bd210f340267",
   "metadata": {},
   "source": [
    "## python as calacutor"
   ]
  },
  {
   "cell_type": "code",
   "execution_count": 2,
   "id": "7e4eaee7-35e6-4d32-ade8-4f5bb1eb5f1b",
   "metadata": {},
   "outputs": [
    {
     "name": "stdin",
     "output_type": "stream",
     "text": [
      "please enter only integer number 2 4\n",
      "please enter only interer number 1 5\n"
     ]
    }
   ],
   "source": [
    "num1= int(input(\"please enter only integer number 2\"))\n",
    "num2= int(input(\"please enter only interer number 1\"))"
   ]
  },
  {
   "cell_type": "code",
   "execution_count": 14,
   "id": "0c657982-6fd5-48e0-ab2a-380882e02e16",
   "metadata": {},
   "outputs": [
    {
     "name": "stdout",
     "output_type": "stream",
     "text": [
      "-1\n",
      "9\n"
     ]
    }
   ],
   "source": [
    "#sum the above two number\n",
    "answer=num1+num2\n",
    "#subtract\n",
    "ans=num1-num2\n",
    "print(ans )\n",
    "print(answer)"
   ]
  },
  {
   "cell_type": "code",
   "execution_count": 24,
   "id": "6ab96123-98de-416c-aae4-7cd821792365",
   "metadata": {},
   "outputs": [],
   "source": [
    "varible1=\"Atif\"\n",
    "varible2=\"Hussain\""
   ]
  },
  {
   "cell_type": "code",
   "execution_count": 25,
   "id": "2df533b7-b1b4-433b-a9cf-d37e8c9e866e",
   "metadata": {},
   "outputs": [
    {
     "name": "stdout",
     "output_type": "stream",
     "text": [
      "Atif\n"
     ]
    }
   ],
   "source": [
    "print(varible1)"
   ]
  },
  {
   "cell_type": "code",
   "execution_count": 28,
   "id": "9f777f61-3858-4df5-99e9-98dbd91385e6",
   "metadata": {},
   "outputs": [
    {
     "name": "stdout",
     "output_type": "stream",
     "text": [
      "AtifHussain\n"
     ]
    }
   ],
   "source": [
    "fullname =varible1+varible2\n",
    "print(fullname)"
   ]
  },
  {
   "cell_type": "code",
   "execution_count": 30,
   "id": "67e4a229-e397-41d5-a7bf-e1aed16d28ac",
   "metadata": {},
   "outputs": [],
   "source": [
    "varible1='py'\n",
    "varible2='thon'"
   ]
  },
  {
   "cell_type": "code",
   "execution_count": 32,
   "id": "f59f678a-b309-4033-a524-a6f2a204c4ad",
   "metadata": {},
   "outputs": [
    {
     "name": "stdout",
     "output_type": "stream",
     "text": [
      "python\n"
     ]
    }
   ],
   "source": [
    "print(varible1+varible2)"
   ]
  },
  {
   "cell_type": "code",
   "execution_count": 33,
   "id": "73d7cf08-f327-491a-add1-b44985eabecf",
   "metadata": {},
   "outputs": [],
   "source": [
    "word=\"python\""
   ]
  },
  {
   "cell_type": "code",
   "execution_count": 40,
   "id": "b86fe777-4d1f-462f-abb7-9ddab2cb2cf2",
   "metadata": {},
   "outputs": [
    {
     "data": {
      "text/plain": [
       "'h'"
      ]
     },
     "execution_count": 40,
     "metadata": {},
     "output_type": "execute_result"
    }
   ],
   "source": [
    "word[-3]"
   ]
  },
  {
   "cell_type": "code",
   "execution_count": 42,
   "id": "3c364e39-3308-4b7b-af74-7160dbee8f1f",
   "metadata": {},
   "outputs": [
    {
     "name": "stdout",
     "output_type": "stream",
     "text": [
      " i am student i read in class 10\n"
     ]
    }
   ],
   "source": [
    "a=\" i am student\"\n",
    "b=\" i read in class 10\"\n",
    "z=a+b\n",
    "print(z)"
   ]
  },
  {
   "cell_type": "code",
   "execution_count": 47,
   "id": "4f0b6831-9624-409d-8844-31ade3afea02",
   "metadata": {},
   "outputs": [
    {
     "data": {
      "text/plain": [
       "'class'"
      ]
     },
     "execution_count": 47,
     "metadata": {},
     "output_type": "execute_result"
    }
   ],
   "source": [
    "z[24:29]"
   ]
  },
  {
   "cell_type": "code",
   "execution_count": 48,
   "id": "217a22f9-65ed-4c2a-90fa-b7f2257ee172",
   "metadata": {},
   "outputs": [
    {
     "data": {
      "text/plain": [
       "'0'"
      ]
     },
     "execution_count": 48,
     "metadata": {},
     "output_type": "execute_result"
    }
   ],
   "source": [
    "z[-1]"
   ]
  },
  {
   "cell_type": "code",
   "execution_count": 50,
   "id": "25372ad3-c9cd-433d-b694-6fb25a8a37bf",
   "metadata": {},
   "outputs": [
    {
     "data": {
      "text/plain": [
       "'pyt'"
      ]
     },
     "execution_count": 50,
     "metadata": {},
     "output_type": "execute_result"
    }
   ],
   "source": [
    "word[0:3]"
   ]
  },
  {
   "cell_type": "code",
   "execution_count": 51,
   "id": "59bb6bbb-c64f-483f-a24c-e85407da8a87",
   "metadata": {},
   "outputs": [
    {
     "data": {
      "text/plain": [
       "'thon'"
      ]
     },
     "execution_count": 51,
     "metadata": {},
     "output_type": "execute_result"
    }
   ],
   "source": [
    "word[2:]"
   ]
  },
  {
   "cell_type": "code",
   "execution_count": 53,
   "id": "41d2f53c-ff6b-4531-ab24-5ae28542bb3e",
   "metadata": {},
   "outputs": [
    {
     "data": {
      "text/plain": [
       "'py'"
      ]
     },
     "execution_count": 53,
     "metadata": {},
     "output_type": "execute_result"
    }
   ],
   "source": [
    "word[:2]"
   ]
  },
  {
   "cell_type": "code",
   "execution_count": 54,
   "id": "37e83022-7ca7-4845-b21b-4e92774f129e",
   "metadata": {},
   "outputs": [
    {
     "data": {
      "text/plain": [
       "6"
      ]
     },
     "execution_count": 54,
     "metadata": {},
     "output_type": "execute_result"
    }
   ],
   "source": [
    "#length of the string\n",
    "len(word)"
   ]
  },
  {
   "cell_type": "code",
   "execution_count": null,
   "id": "7dbdaacf-d5e0-49b2-a0fa-866ed049ccba",
   "metadata": {},
   "outputs": [],
   "source": [
    "#len("
   ]
  }
 ],
 "metadata": {
  "kernelspec": {
   "display_name": "Python 3 (ipykernel)",
   "language": "python",
   "name": "python3"
  },
  "language_info": {
   "codemirror_mode": {
    "name": "ipython",
    "version": 3
   },
   "file_extension": ".py",
   "mimetype": "text/x-python",
   "name": "python",
   "nbconvert_exporter": "python",
   "pygments_lexer": "ipython3",
   "version": "3.12.7"
  }
 },
 "nbformat": 4,
 "nbformat_minor": 5
}
